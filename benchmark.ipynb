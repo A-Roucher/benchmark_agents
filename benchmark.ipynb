{
 "cells": [
  {
   "cell_type": "markdown",
   "metadata": {},
   "source": [
    "# Open-source LLM's as Agents with `ChatHuggingFace`\n",
    "\n",
    "\n",
    "Open source LLMs are becoming viable general purpose agents. The goal of this notebook is to demonstrate how to make use of open-source LLMs as chat models using [Hugging Face Inference Endpoints](https://huggingface.co/docs/inference-endpoints/index) with [LangChain's `ChatHuggingFace`]() to enable their usage and experimentation with agent-based workflows.\n",
    "\n",
    "In particular, we will:\n",
    "1. Utilize the [HuggingFaceEndpoint](https://github.com/langchain-ai/langchain/blob/master/libs/langchain/langchain/llms/huggingface_endpoint.py) (or [HuggingFaceTextGenInference](https://github.com/langchain-ai/langchain/blob/master/libs/langchain/langchain/llms/huggingface_text_gen_inference.py) or [HuggingFaceHub](https://github.com/langchain-ai/langchain/blob/master/libs/langchain/langchain/llms/huggingface_hub.py)) integration to call a [HF Inference Endpoint](https://huggingface.co/inference-endpoints) that's serving an LLM via [Text Generation Inference (TGI)](https://huggingface.co/docs/text-generation-inference/index)\n",
    "2. Utilize the `ChatHuggingFace` class that interfaces between LangChain's [Chat Messages](https://python.langchain.com/docs/modules/model_io/chat/#messages) and the hosted LLM by leveraging [Hugging Face's Chat Templates](https://huggingface.co/docs/transformers/chat_templating) to power a `ChatAgent` pipeline.\n",
    "4. Demonstrate how to use an open-source LLM in a zero-shot ReAct Agent workflow, along with an open-source [Prometheus](https://huggingface.co/papers/2310.08491) model to perform \"LLM as a Judge\"-style evaluations on that Agent's ouputs.\n",
    "5. Understand how several different open-source LLM's perform as general purpose agents by running an asynchronous evaluation pipeline using Prometheus as the judge. \n",
    "\n",
    "\n",
    "\n",
    "> Note: To run this notebook, you'll need to have:\n",
    "> - an LLM deployed via a Hugging Face Inference Endpoint (the LLM must have a `chat_template` defined in its `tokenizer_config.json`)\n",
    "> - A Hugging Face Token with access to the deployed endpoint saved as an environment variable: `HUGGINGFACEHUB_API_TOKEN`\n",
    "> - A SerpAPI key saved as an environment variable: `SERPAPI_API_KEY`\n"
   ]
  },
  {
   "cell_type": "markdown",
   "metadata": {},
   "source": [
    "## Setup"
   ]
  },
  {
   "cell_type": "code",
   "execution_count": 31,
   "metadata": {},
   "outputs": [
    {
     "name": "stdout",
     "output_type": "stream",
     "text": [
      "\n",
      "\u001b[1m[\u001b[0m\u001b[34;49mnotice\u001b[0m\u001b[1;39;49m]\u001b[0m\u001b[39;49m A new release of pip available: \u001b[0m\u001b[31;49m22.3.1\u001b[0m\u001b[39;49m -> \u001b[0m\u001b[32;49m23.3.1\u001b[0m\n",
      "\u001b[1m[\u001b[0m\u001b[34;49mnotice\u001b[0m\u001b[1;39;49m]\u001b[0m\u001b[39;49m To update, run: \u001b[0m\u001b[32;49mpip install --upgrade pip\u001b[0m\n"
     ]
    }
   ],
   "source": [
    "!pip install -q transformers langchain text-generation python-dotenv jinja2 langchainhub numexpr datasets tqdm openai sentencepiece protobuf matplotlib wikipedia google-search-results"
   ]
  },
  {
   "cell_type": "code",
   "execution_count": 32,
   "metadata": {},
   "outputs": [
    {
     "name": "stdout",
     "output_type": "stream",
     "text": [
      "The autoreload extension is already loaded. To reload it, use:\n",
      "  %reload_ext autoreload\n"
     ]
    }
   ],
   "source": [
    "%load_ext autoreload\n",
    "%autoreload 2"
   ]
  },
  {
   "cell_type": "code",
   "execution_count": 33,
   "metadata": {},
   "outputs": [
    {
     "data": {
      "text/plain": [
       "True"
      ]
     },
     "execution_count": 33,
     "metadata": {},
     "output_type": "execute_result"
    }
   ],
   "source": [
    "# ruff: noqa: E402\n",
    "\n",
    "from dotenv import load_dotenv\n",
    "import numpy as np\n",
    "import pandas as pd\n",
    "import glob\n",
    "from tqdm.notebook import tqdm\n",
    "\n",
    "\n",
    "from langchain.agents.format_scratchpad import format_log_to_str\n",
    "from langchain.agents import AgentExecutor\n",
    "from langchain.agents.output_parsers import (\n",
    "    ReActJsonSingleInputOutputParser,\n",
    ")\n",
    "from prompts import SYSTEM_PROMPT, HUMAN_PROMPT\n",
    "from langchain.prompts.chat import (\n",
    "    ChatPromptTemplate,\n",
    "    HumanMessagePromptTemplate,\n",
    ")\n",
    "from langchain.tools import WikipediaQueryRun, tool\n",
    "from langchain.utilities import WikipediaAPIWrapper\n",
    "from langchain.agents import load_tools\n",
    "from langchain.tools.render import render_text_description_and_args\n",
    "\n",
    "load_dotenv(override=True)"
   ]
  },
  {
   "cell_type": "markdown",
   "metadata": {},
   "source": [
    "## 1. Instantiate an LLM\n",
    "\n",
    "You'll need to have a running Inference Endpoint available."
   ]
  },
  {
   "cell_type": "markdown",
   "metadata": {},
   "source": [
    "#### `HuggingFaceHub`"
   ]
  },
  {
   "cell_type": "code",
   "execution_count": null,
   "metadata": {},
   "outputs": [],
   "source": [
    "from langchain.llms.huggingface_hub import HuggingFaceHub\n",
    "\n",
    "llm = HuggingFaceHub(\n",
    "    repo_id='HuggingFaceH4/zephyr-7b-beta',\n",
    "    task=\"text-generation\",\n",
    "    model_kwargs={\n",
    "        \"max_new_tokens\": 512,\n",
    "        \"top_k\": 50,\n",
    "        \"temperature\": 0.1,\n",
    "        \"repetition_penalty\": 1.03,\n",
    "    },\n",
    ")"
   ]
  },
  {
   "cell_type": "markdown",
   "metadata": {},
   "source": [
    "#### `HuggingFaceEndpoint`"
   ]
  },
  {
   "cell_type": "code",
   "execution_count": null,
   "metadata": {},
   "outputs": [],
   "source": [
    "from langchain.llms import HuggingFaceEndpoint\n",
    "\n",
    "endpoint_url = \"https://j02macig8fbovqhr.us-east-1.aws.endpoints.huggingface.cloud\"  # zephyr\n",
    "# endpoint_url = 'https://jetux1zl70hht8g2.us-east-1.aws.endpoints.huggingface.cloud'  # mixtral\n",
    "llm = HuggingFaceEndpoint(\n",
    "    endpoint_url=endpoint_url,\n",
    "    task=\"text-generation\",\n",
    "    model_kwargs={\n",
    "        \"max_new_tokens\": 488,\n",
    "        \"top_k\": 50,\n",
    "        \"repetition_penalty\": 1.03,\n",
    "    },\n",
    ")"
   ]
  },
  {
   "cell_type": "markdown",
   "metadata": {},
   "source": [
    "## 2. Create a wrapper for `BaseChatModel` to apply chat templates"
   ]
  },
  {
   "cell_type": "code",
   "execution_count": null,
   "metadata": {},
   "outputs": [],
   "source": [
    "from langchain.schema import HumanMessage\n",
    "from chat_wrapper import HuggingFaceChatWrapper"
   ]
  },
  {
   "cell_type": "markdown",
   "metadata": {},
   "source": [
    "Instantiate the model and some messages to pass."
   ]
  },
  {
   "cell_type": "code",
   "execution_count": null,
   "metadata": {},
   "outputs": [],
   "source": [
    "from huggingface_hub import notebook_login\n",
    "\n",
    "notebook_login()"
   ]
  },
  {
   "cell_type": "code",
   "execution_count": null,
   "metadata": {},
   "outputs": [],
   "source": [
    "messages = [\n",
    "    HumanMessage(content=\"You're a helpful assistant. What happens when an unstoppable force meets an immovable object?\"),\n",
    "]\n",
    "\n",
    "chat_model = HuggingFaceChatWrapper(llm=llm)\n",
    "chat_model.model_id"
   ]
  },
  {
   "cell_type": "markdown",
   "metadata": {},
   "source": [
    "Call the model."
   ]
  },
  {
   "cell_type": "code",
   "execution_count": null,
   "metadata": {},
   "outputs": [],
   "source": [
    "res = chat_model.invoke(messages)\n",
    "print(res.content)"
   ]
  },
  {
   "cell_type": "markdown",
   "metadata": {},
   "source": [
    "## Tests\n",
    "\n",
    "Here we'll test out our model as a zero-shot ReAct Agent. The example below is taken from [here](https://python.langchain.com/docs/modules/agents/agent_types/react#using-chat-models)."
   ]
  },
  {
   "cell_type": "markdown",
   "metadata": {},
   "source": [
    "Configure the agent with a `react-json` style prompt and access to a search engine and calculator."
   ]
  },
  {
   "cell_type": "markdown",
   "metadata": {},
   "source": [
    "### Define tools"
   ]
  },
  {
   "cell_type": "code",
   "execution_count": null,
   "metadata": {},
   "outputs": [],
   "source": [
    "tools = load_tools([\"serpapi\", \"llm-math\"], llm=llm)\n",
    "# Rename tools in the same format used by other tools\n",
    "tools[0].name = \"search\"\n",
    "tools[1].name = \"calculator\"\n",
    "\n",
    "wikipedia = WikipediaQueryRun(api_wrapper=WikipediaAPIWrapper())\n",
    "\n",
    "@tool\n",
    "def search_wikipedia(query: str) -> str:\n",
    "    \"\"\"Searches Wikipedia for a query. This will not be relevant for the latest information, but it can be useful for historical knowledge.\"\"\"\n",
    "    return wikipedia.run(query)\n",
    "\n",
    "\n",
    "TOOLS = tools + [search_wikipedia]"
   ]
  },
  {
   "cell_type": "code",
   "execution_count": null,
   "metadata": {},
   "outputs": [],
   "source": [
    "prompt = ChatPromptTemplate.from_messages(\n",
    "    [\n",
    "        HumanMessagePromptTemplate.from_template(SYSTEM_PROMPT+'\\nSo, here is my question:'+HUMAN_PROMPT),\n",
    "    ]\n",
    ")\n",
    "prompt = prompt.partial(\n",
    "    tool_description=render_text_description_and_args(TOOLS),\n",
    "    tool_names=\", \".join([t.name for t in TOOLS]),\n",
    ")\n",
    "\n",
    "# define the agent\n",
    "chat_model_with_stop = chat_model.bind(stop=[\"\\nObservation\"])\n",
    "agent = (\n",
    "    {\n",
    "        \"input\": lambda x: x[\"input\"],\n",
    "        \"agent_scratchpad\": lambda x: format_log_to_str(x[\"intermediate_steps\"]),\n",
    "    }\n",
    "    | prompt\n",
    "    | chat_model_with_stop\n",
    "    | ReActJsonSingleInputOutputParser()\n",
    ")\n",
    "\n",
    "# instantiate AgentExecutor\n",
    "agent_executor = AgentExecutor(\n",
    "    agent=agent,\n",
    "    tools=TOOLS,\n",
    "    verbose=True,\n",
    "    return_intermediate_steps=True,\n",
    "    handle_parsing_errors=True,\n",
    "    max_iterations=5,\n",
    ")"
   ]
  },
  {
   "cell_type": "code",
   "execution_count": null,
   "metadata": {},
   "outputs": [],
   "source": [
    "example = {\n",
    "    \"input\": \"What is the age of Leonardo DiCaprio's current girlfriend, raised to the power 0.43?\"\n",
    "}\n",
    "\n",
    "out = agent_executor.invoke(example)"
   ]
  },
  {
   "cell_type": "markdown",
   "metadata": {},
   "source": [
    "# Evaluation Experiment \n",
    "\n",
    "- Find a group of test questions that use a certain set of tools to solve (HotpotQA)\n",
    "- Run several different models as agent to solve the test questions (OS and proprietary)\n",
    "- Use a LLM as a judge\n",
    "- Use OS models as a judge\n",
    "- Report correlations\n",
    "\n",
    "## Create evaluation dataset"
   ]
  },
  {
   "cell_type": "code",
   "execution_count": 34,
   "metadata": {},
   "outputs": [
    {
     "data": {
      "text/html": [
       "<div>\n",
       "<style scoped>\n",
       "    .dataframe tbody tr th:only-of-type {\n",
       "        vertical-align: middle;\n",
       "    }\n",
       "\n",
       "    .dataframe tbody tr th {\n",
       "        vertical-align: top;\n",
       "    }\n",
       "\n",
       "    .dataframe thead th {\n",
       "        text-align: right;\n",
       "    }\n",
       "</style>\n",
       "<table border=\"1\" class=\"dataframe\">\n",
       "  <thead>\n",
       "    <tr style=\"text-align: right;\">\n",
       "      <th></th>\n",
       "      <th>question</th>\n",
       "      <th>answer</th>\n",
       "      <th>task</th>\n",
       "    </tr>\n",
       "  </thead>\n",
       "  <tbody>\n",
       "    <tr>\n",
       "      <th>0</th>\n",
       "      <td>Who was born in 1936 and committed the Massacr...</td>\n",
       "      <td>Harry Roberts</td>\n",
       "      <td>HotpotQA-easy</td>\n",
       "    </tr>\n",
       "    <tr>\n",
       "      <th>1</th>\n",
       "      <td>David Pear was a NFL football player, that won...</td>\n",
       "      <td>Oakland Raiders</td>\n",
       "      <td>HotpotQA-easy</td>\n",
       "    </tr>\n",
       "    <tr>\n",
       "      <th>2</th>\n",
       "      <td>What act of a mythical hunter-warrior of Irish...</td>\n",
       "      <td>inhaled the poison from his spear to keep hims...</td>\n",
       "      <td>HotpotQA-easy</td>\n",
       "    </tr>\n",
       "    <tr>\n",
       "      <th>3</th>\n",
       "      <td>Roxanne Quimby, is an American artist, conserv...</td>\n",
       "      <td>Burt's Bees</td>\n",
       "      <td>HotpotQA-easy</td>\n",
       "    </tr>\n",
       "    <tr>\n",
       "      <th>4</th>\n",
       "      <td>Is the Outpost Island Mine and Jolly Jack's Lo...</td>\n",
       "      <td>yes</td>\n",
       "      <td>HotpotQA-easy</td>\n",
       "    </tr>\n",
       "    <tr>\n",
       "      <th>5</th>\n",
       "      <td>What were both David Vincent and Lee Min-woo in?</td>\n",
       "      <td>band</td>\n",
       "      <td>HotpotQA-easy</td>\n",
       "    </tr>\n",
       "    <tr>\n",
       "      <th>6</th>\n",
       "      <td>Michael Stich and Chanda Rubin, have which occ...</td>\n",
       "      <td>tennis player</td>\n",
       "      <td>HotpotQA-easy</td>\n",
       "    </tr>\n",
       "    <tr>\n",
       "      <th>7</th>\n",
       "      <td>Viken Babikian and John Najarian, both work as...</td>\n",
       "      <td>University</td>\n",
       "      <td>HotpotQA-easy</td>\n",
       "    </tr>\n",
       "    <tr>\n",
       "      <th>8</th>\n",
       "      <td>Where are the headquarters of the league the D...</td>\n",
       "      <td>Elmhurst, Illinois</td>\n",
       "      <td>HotpotQA-hard</td>\n",
       "    </tr>\n",
       "    <tr>\n",
       "      <th>9</th>\n",
       "      <td>What award is sponsored by the National Austra...</td>\n",
       "      <td>Ron Evans Medal</td>\n",
       "      <td>HotpotQA-hard</td>\n",
       "    </tr>\n",
       "    <tr>\n",
       "      <th>10</th>\n",
       "      <td>The Japanese military officer Kenji Hatanaka c...</td>\n",
       "      <td>Akihito</td>\n",
       "      <td>HotpotQA-hard</td>\n",
       "    </tr>\n",
       "    <tr>\n",
       "      <th>11</th>\n",
       "      <td>What American attorney currently represents Ne...</td>\n",
       "      <td>Jerrold Nadler</td>\n",
       "      <td>HotpotQA-hard</td>\n",
       "    </tr>\n",
       "    <tr>\n",
       "      <th>12</th>\n",
       "      <td>Daniel Nestor and Mary Joe Fernández, played w...</td>\n",
       "      <td>professional tennis player</td>\n",
       "      <td>HotpotQA-hard</td>\n",
       "    </tr>\n",
       "    <tr>\n",
       "      <th>13</th>\n",
       "      <td>Who was born first, Amir Naderi or Guillermo d...</td>\n",
       "      <td>Amir Naderi</td>\n",
       "      <td>HotpotQA-hard</td>\n",
       "    </tr>\n",
       "    <tr>\n",
       "      <th>14</th>\n",
       "      <td>Which school was founded first, Kasetsart Univ...</td>\n",
       "      <td>Kasetsart University</td>\n",
       "      <td>HotpotQA-hard</td>\n",
       "    </tr>\n",
       "    <tr>\n",
       "      <th>15</th>\n",
       "      <td>Who was born first, Reginald Denham or Jack Co...</td>\n",
       "      <td>Jack Ryan Conway</td>\n",
       "      <td>HotpotQA-hard</td>\n",
       "    </tr>\n",
       "    <tr>\n",
       "      <th>16</th>\n",
       "      <td>What 2017 documentary film imagines a journey ...</td>\n",
       "      <td>Edith Walks</td>\n",
       "      <td>HotpotQA-medium</td>\n",
       "    </tr>\n",
       "    <tr>\n",
       "      <th>17</th>\n",
       "      <td>When was the pianist who played the musical se...</td>\n",
       "      <td>10 December 1822</td>\n",
       "      <td>HotpotQA-medium</td>\n",
       "    </tr>\n",
       "    <tr>\n",
       "      <th>18</th>\n",
       "      <td>Which of the original Seven Sisters colleges h...</td>\n",
       "      <td>Mount Holyoke College</td>\n",
       "      <td>HotpotQA-medium</td>\n",
       "    </tr>\n",
       "    <tr>\n",
       "      <th>19</th>\n",
       "      <td>\"Kaun Tujhe\" is picturised upon Sushant Singh ...</td>\n",
       "      <td>Disha Patani</td>\n",
       "      <td>HotpotQA-medium</td>\n",
       "    </tr>\n",
       "    <tr>\n",
       "      <th>20</th>\n",
       "      <td>Which type of dog is the national dog breed of...</td>\n",
       "      <td>Canaan Dog</td>\n",
       "      <td>HotpotQA-medium</td>\n",
       "    </tr>\n",
       "    <tr>\n",
       "      <th>21</th>\n",
       "      <td>Which musician filled more roles in their band...</td>\n",
       "      <td>Wong Ka-kui</td>\n",
       "      <td>HotpotQA-medium</td>\n",
       "    </tr>\n",
       "    <tr>\n",
       "      <th>22</th>\n",
       "      <td>Who was a stage and film director, Kelly Reich...</td>\n",
       "      <td>Victor Hugo Halperin</td>\n",
       "      <td>HotpotQA-medium</td>\n",
       "    </tr>\n",
       "    <tr>\n",
       "      <th>23</th>\n",
       "      <td>Are Lee Sung-min and Tom Petty both American?</td>\n",
       "      <td>no</td>\n",
       "      <td>HotpotQA-medium</td>\n",
       "    </tr>\n",
       "  </tbody>\n",
       "</table>\n",
       "</div>"
      ],
      "text/plain": [
       "                                             question  \\\n",
       "0   Who was born in 1936 and committed the Massacr...   \n",
       "1   David Pear was a NFL football player, that won...   \n",
       "2   What act of a mythical hunter-warrior of Irish...   \n",
       "3   Roxanne Quimby, is an American artist, conserv...   \n",
       "4   Is the Outpost Island Mine and Jolly Jack's Lo...   \n",
       "5    What were both David Vincent and Lee Min-woo in?   \n",
       "6   Michael Stich and Chanda Rubin, have which occ...   \n",
       "7   Viken Babikian and John Najarian, both work as...   \n",
       "8   Where are the headquarters of the league the D...   \n",
       "9   What award is sponsored by the National Austra...   \n",
       "10  The Japanese military officer Kenji Hatanaka c...   \n",
       "11  What American attorney currently represents Ne...   \n",
       "12  Daniel Nestor and Mary Joe Fernández, played w...   \n",
       "13  Who was born first, Amir Naderi or Guillermo d...   \n",
       "14  Which school was founded first, Kasetsart Univ...   \n",
       "15  Who was born first, Reginald Denham or Jack Co...   \n",
       "16  What 2017 documentary film imagines a journey ...   \n",
       "17  When was the pianist who played the musical se...   \n",
       "18  Which of the original Seven Sisters colleges h...   \n",
       "19  \"Kaun Tujhe\" is picturised upon Sushant Singh ...   \n",
       "20  Which type of dog is the national dog breed of...   \n",
       "21  Which musician filled more roles in their band...   \n",
       "22  Who was a stage and film director, Kelly Reich...   \n",
       "23      Are Lee Sung-min and Tom Petty both American?   \n",
       "\n",
       "                                               answer             task  \n",
       "0                                       Harry Roberts    HotpotQA-easy  \n",
       "1                                     Oakland Raiders    HotpotQA-easy  \n",
       "2   inhaled the poison from his spear to keep hims...    HotpotQA-easy  \n",
       "3                                         Burt's Bees    HotpotQA-easy  \n",
       "4                                                 yes    HotpotQA-easy  \n",
       "5                                                band    HotpotQA-easy  \n",
       "6                                       tennis player    HotpotQA-easy  \n",
       "7                                          University    HotpotQA-easy  \n",
       "8                                  Elmhurst, Illinois    HotpotQA-hard  \n",
       "9                                     Ron Evans Medal    HotpotQA-hard  \n",
       "10                                            Akihito    HotpotQA-hard  \n",
       "11                                     Jerrold Nadler    HotpotQA-hard  \n",
       "12                         professional tennis player    HotpotQA-hard  \n",
       "13                                        Amir Naderi    HotpotQA-hard  \n",
       "14                               Kasetsart University    HotpotQA-hard  \n",
       "15                                   Jack Ryan Conway    HotpotQA-hard  \n",
       "16                                        Edith Walks  HotpotQA-medium  \n",
       "17                                   10 December 1822  HotpotQA-medium  \n",
       "18                              Mount Holyoke College  HotpotQA-medium  \n",
       "19                                       Disha Patani  HotpotQA-medium  \n",
       "20                                         Canaan Dog  HotpotQA-medium  \n",
       "21                                        Wong Ka-kui  HotpotQA-medium  \n",
       "22                               Victor Hugo Halperin  HotpotQA-medium  \n",
       "23                                                 no  HotpotQA-medium  "
      ]
     },
     "execution_count": 34,
     "metadata": {},
     "output_type": "execute_result"
    }
   ],
   "source": [
    "from datasets import load_dataset, concatenate_datasets\n",
    "\n",
    "hotpotqa_dataset = load_dataset(\"hotpot_qa\", \"distractor\")\n",
    "\n",
    "# let's sample a few examples from each level (of difficulty) and type (comparion or bridge)\n",
    "hotpotqa_dataset.set_format(\"pandas\")\n",
    "dataset_df = hotpotqa_dataset[\"train\"][:]\n",
    "sample_indicies = (\n",
    "    dataset_df.groupby([\"level\", \"type\"]).sample(4, random_state=10).index.values\n",
    ")\n",
    "hotpotqa_dataset.reset_format()\n",
    "hotpotqa_dataset = hotpotqa_dataset[\"train\"].select(sample_indicies)\n",
    "task_column = [f\"HotpotQA-{level}\" for level in hotpotqa_dataset[\"level\"]]\n",
    "hotpotqa_dataset = hotpotqa_dataset.add_column('task', task_column).select_columns(['question', 'answer', 'task'])\n",
    "pd.DataFrame(hotpotqa_dataset)"
   ]
  },
  {
   "cell_type": "code",
   "execution_count": 35,
   "metadata": {},
   "outputs": [],
   "source": [
    "np.random.seed(42)\n",
    "math_dataset = load_dataset(\"gsm8k\", \"main\")['train']\n",
    "math_dataset = math_dataset.select(np.random.randint(0, len(math_dataset), 15))\n",
    "task_column = [\"GSM8K\"] * len(math_dataset)\n",
    "math_dataset = math_dataset.add_column('task', task_column).select_columns(['question', 'answer', 'task'])"
   ]
  },
  {
   "cell_type": "code",
   "execution_count": 36,
   "metadata": {},
   "outputs": [
    {
     "name": "stderr",
     "output_type": "stream",
     "text": [
      "/home/ubuntu/venv/ml2/lib/python3.10/site-packages/huggingface_hub/repocard.py:105: UserWarning: Repo card metadata block was not found. Setting CardData to empty.\n",
      "  warnings.warn(\"Repo card metadata block was not found. Setting CardData to empty.\")\n"
     ]
    }
   ],
   "source": [
    "gaia_dataset = load_dataset(\"gaia-benchmark/GAIA\", \"2023_level1\")['validation']\n",
    "gaia_dataset.set_format('pandas')\n",
    "gaia_dataset_df = gaia_dataset[:]\n",
    "gaia_dataset_df['number_of_steps'] = gaia_dataset_df['Annotator Metadata'].apply(lambda row: int(row['Number of steps']))\n",
    "gaia_dataset_df['tools_used'] = gaia_dataset_df['Annotator Metadata'].apply(lambda row: row['Tools'])\n",
    "gaia_dataset_df = gaia_dataset_df.loc[~gaia_dataset_df['tools_used'].str.lower().str.contains('pdf|excel|image|video|parsing|audio|word|file|speech|viewer|markdown|python|editor')]"
   ]
  },
  {
   "cell_type": "code",
   "execution_count": 37,
   "metadata": {},
   "outputs": [],
   "source": [
    "selected_indicies = [1, 18, 23, 29, 39, 42, 47, 49, 50, 52]\n",
    "gaia_dataset = gaia_dataset.rename_columns({'Question': 'question', 'Final answer': 'answer'}).select_columns(['question', 'answer'])\n",
    "gaia_dataset.reset_format()\n",
    "gaia_dataset = gaia_dataset.select(selected_indicies)\n",
    "\n",
    "task_column = ['GAIA'] * len(gaia_dataset)\n",
    "gaia_dataset = gaia_dataset.add_column('task', task_column)"
   ]
  },
  {
   "cell_type": "code",
   "execution_count": 38,
   "metadata": {},
   "outputs": [
    {
     "data": {
      "text/html": [
       "<div>\n",
       "<style scoped>\n",
       "    .dataframe tbody tr th:only-of-type {\n",
       "        vertical-align: middle;\n",
       "    }\n",
       "\n",
       "    .dataframe tbody tr th {\n",
       "        vertical-align: top;\n",
       "    }\n",
       "\n",
       "    .dataframe thead th {\n",
       "        text-align: right;\n",
       "    }\n",
       "</style>\n",
       "<table border=\"1\" class=\"dataframe\">\n",
       "  <thead>\n",
       "    <tr style=\"text-align: right;\">\n",
       "      <th></th>\n",
       "      <th>question</th>\n",
       "      <th>answer</th>\n",
       "    </tr>\n",
       "    <tr>\n",
       "      <th>task</th>\n",
       "      <th></th>\n",
       "      <th></th>\n",
       "    </tr>\n",
       "  </thead>\n",
       "  <tbody>\n",
       "    <tr>\n",
       "      <th>GAIA</th>\n",
       "      <td>How many studio albums were published by Merce...</td>\n",
       "      <td>3</td>\n",
       "    </tr>\n",
       "    <tr>\n",
       "      <th>GSM8K</th>\n",
       "      <td>Bob is tilling a plot of his garden. The plot ...</td>\n",
       "      <td>If Bob goes along the side that's 120 feet lon...</td>\n",
       "    </tr>\n",
       "    <tr>\n",
       "      <th>HotpotQA-easy</th>\n",
       "      <td>Who was born in 1936 and committed the Massacr...</td>\n",
       "      <td>Harry Roberts</td>\n",
       "    </tr>\n",
       "    <tr>\n",
       "      <th>HotpotQA-hard</th>\n",
       "      <td>Where are the headquarters of the league the D...</td>\n",
       "      <td>Elmhurst, Illinois</td>\n",
       "    </tr>\n",
       "    <tr>\n",
       "      <th>HotpotQA-medium</th>\n",
       "      <td>What 2017 documentary film imagines a journey ...</td>\n",
       "      <td>Edith Walks</td>\n",
       "    </tr>\n",
       "  </tbody>\n",
       "</table>\n",
       "</div>"
      ],
      "text/plain": [
       "                                                          question  \\\n",
       "task                                                                 \n",
       "GAIA             How many studio albums were published by Merce...   \n",
       "GSM8K            Bob is tilling a plot of his garden. The plot ...   \n",
       "HotpotQA-easy    Who was born in 1936 and committed the Massacr...   \n",
       "HotpotQA-hard    Where are the headquarters of the league the D...   \n",
       "HotpotQA-medium  What 2017 documentary film imagines a journey ...   \n",
       "\n",
       "                                                            answer  \n",
       "task                                                                \n",
       "GAIA                                                             3  \n",
       "GSM8K            If Bob goes along the side that's 120 feet lon...  \n",
       "HotpotQA-easy                                        Harry Roberts  \n",
       "HotpotQA-hard                                   Elmhurst, Illinois  \n",
       "HotpotQA-medium                                        Edith Walks  "
      ]
     },
     "execution_count": 38,
     "metadata": {},
     "output_type": "execute_result"
    }
   ],
   "source": [
    "dataset = concatenate_datasets([math_dataset, hotpotqa_dataset, gaia_dataset])\n",
    "pd.DataFrame(dataset).groupby('task').first()"
   ]
  },
  {
   "cell_type": "markdown",
   "metadata": {},
   "source": [
    "# Run tests"
   ]
  },
  {
   "cell_type": "code",
   "execution_count": null,
   "metadata": {},
   "outputs": [],
   "source": [
    "from run_agents import run_full_tests, build_hf_agent, build_openai_agent\n",
    "\n",
    "agent_endpoints = {\n",
    "    # 'Zephyr-7b-beta': 'https://n6c9uxjetjnmi44q.us-east-1.aws.endpoints.huggingface.cloud',\n",
    "    # 'https://i45e7q2do4r8mw5k.us-east-1.aws.endpoints.huggingface.cloud',  # notus-7b\n",
    "    # 'Mixtral-7x8b': 'https://jetux1zl70hht8g2.us-east-1.aws.endpoints.huggingface.cloud',\n",
    "    # 'https://h0qwp3dx2iixajoh.us-east-1.aws.endpoints.huggingface.cloud', # llama2-7b\n",
    "    # 'Yi-34B-Chat': 'https://wtgjpwu76xh7cv7t.us-east-1.aws.endpoints.huggingface.cloud',\n",
    "    # 'Llama2-7b': 'https://pbg28xzbho42zp1t.us-east-1.aws.endpoints.huggingface.cloud',\n",
    "    'SOLAR-10.7B': 'https://dxsuz0i09l5zzjh1.us-east-1.aws.endpoints.huggingface.cloud'\n",
    "}\n",
    "\n",
    "agents = {\n",
    "    name: build_hf_agent(endpoint)\n",
    "    for name, endpoint in agent_endpoints.items()\n",
    "}\n",
    "\n",
    "# uncomment below to test GPT4 as an agent\n",
    "# agents['GPT4'] = build_openai_agent(model_id='gpt-4-1106-preview')\n",
    "# agents['GPT3.5'] = build_openai_agent(model_id='gpt-3.5-turbo-1106')\n",
    "print(agents)\n",
    "# run eval\n",
    "await run_full_tests(\n",
    "    dataset=dataset,\n",
    "    agents=agents\n",
    ")\n",
    "print('Evaluation complete!')"
   ]
  },
  {
   "cell_type": "markdown",
   "metadata": {},
   "source": [
    "# Evaluate with LLM-as-a-judge"
   ]
  },
  {
   "cell_type": "code",
   "execution_count": 43,
   "metadata": {},
   "outputs": [],
   "source": [
    "from langchain.chat_models import ChatOpenAI\n",
    "from evaluation import build_evaluator\n",
    "\n",
    "eval_chat_model = ChatOpenAI(model='gpt-4-1106-preview', temperature=0)\n",
    "eval_model_name = \"GPT4\"\n",
    "\n",
    "# prometheus_endpoint = 'https://xe7njj8b9w43222g.us-east-1.aws.endpoints.huggingface.cloud'\n",
    "# eval_chat_model = build_evaluator(prometheus_endpoint)\n",
    "# eval_model_name = \"Prometheus-13B-v1.0\""
   ]
  },
  {
   "cell_type": "code",
   "execution_count": 52,
   "metadata": {},
   "outputs": [
    {
     "data": {
      "text/plain": [
       "AIMessage(content='Hello! How can I assist you today?')"
      ]
     },
     "execution_count": 52,
     "metadata": {},
     "output_type": "execute_result"
    }
   ],
   "source": [
    "eval_chat_model.invoke(\"Hello!\")"
   ]
  },
  {
   "cell_type": "code",
   "execution_count": 45,
   "metadata": {},
   "outputs": [
    {
     "data": {
      "application/vnd.jupyter.widget-view+json": {
       "model_id": "7334676e85a64c34b7ac76d265ceeaff",
       "version_major": 2,
       "version_minor": 0
      },
      "text/plain": [
       "  0%|          | 0/3 [00:00<?, ?it/s]"
      ]
     },
     "metadata": {},
     "output_type": "display_data"
    },
    {
     "data": {
      "application/vnd.jupyter.widget-view+json": {
       "model_id": "ceefce791d8c4cd29cc611449e55bafd",
       "version_major": 2,
       "version_minor": 0
      },
      "text/plain": [
       "  0%|          | 0/49 [00:00<?, ?it/s]"
      ]
     },
     "metadata": {},
     "output_type": "display_data"
    },
    {
     "data": {
      "application/vnd.jupyter.widget-view+json": {
       "model_id": "512be1bafd2741a38bad5b324a5155ef",
       "version_major": 2,
       "version_minor": 0
      },
      "text/plain": [
       "  0%|          | 0/49 [00:00<?, ?it/s]"
      ]
     },
     "metadata": {},
     "output_type": "display_data"
    },
    {
     "data": {
      "application/vnd.jupyter.widget-view+json": {
       "model_id": "378ebf019e264eee83e44e05f5210a96",
       "version_major": 2,
       "version_minor": 0
      },
      "text/plain": [
       "  0%|          | 0/3 [00:00<?, ?it/s]"
      ]
     },
     "metadata": {},
     "output_type": "display_data"
    }
   ],
   "source": [
    "from evaluation import evaluate_answers\n",
    "from prompts import CORRECTNESS_PROMPT_TEMPLATE\n",
    "\n",
    "for file in tqdm(glob.glob(\"output/*.json\")):\n",
    "    evaluate_answers(\n",
    "        file,\n",
    "        eval_chat_model,\n",
    "        eval_model_name,\n",
    "        CORRECTNESS_PROMPT_TEMPLATE,\n",
    "    )"
   ]
  },
  {
   "cell_type": "markdown",
   "metadata": {},
   "source": [
    "## Visualize results"
   ]
  },
  {
   "cell_type": "code",
   "execution_count": 49,
   "metadata": {},
   "outputs": [
    {
     "name": "stdout",
     "output_type": "stream",
     "text": [
      "output/SOLAR-10.7B.json\n",
      "output/GPT3.5.json\n"
     ]
    },
    {
     "data": {
      "text/html": [
       "<div>\n",
       "<style scoped>\n",
       "    .dataframe tbody tr th:only-of-type {\n",
       "        vertical-align: middle;\n",
       "    }\n",
       "\n",
       "    .dataframe tbody tr th {\n",
       "        vertical-align: top;\n",
       "    }\n",
       "\n",
       "    .dataframe thead th {\n",
       "        text-align: right;\n",
       "    }\n",
       "</style>\n",
       "<table border=\"1\" class=\"dataframe\">\n",
       "  <thead>\n",
       "    <tr style=\"text-align: right;\">\n",
       "      <th></th>\n",
       "      <th>agent_name</th>\n",
       "      <th>agent_model_id</th>\n",
       "      <th>question</th>\n",
       "      <th>gt_answer</th>\n",
       "      <th>prediction</th>\n",
       "      <th>intermediate_steps</th>\n",
       "      <th>parsing_error</th>\n",
       "      <th>iteration_limit_exceeded</th>\n",
       "      <th>agent_error</th>\n",
       "      <th>start_time</th>\n",
       "      <th>end_time</th>\n",
       "      <th>task</th>\n",
       "      <th>eval_score_GPT4</th>\n",
       "      <th>eval_feedback_GPT4</th>\n",
       "      <th>tools_used</th>\n",
       "      <th>number_of_distinct_tools_used</th>\n",
       "      <th>number_of_steps</th>\n",
       "    </tr>\n",
       "  </thead>\n",
       "  <tbody>\n",
       "    <tr>\n",
       "      <th>0</th>\n",
       "      <td>SOLAR-10.7B</td>\n",
       "      <td>upstage/solar-10.7b-instruct-v1.0-style</td>\n",
       "      <td>Bob is tilling a plot of his garden. The plot ...</td>\n",
       "      <td>If Bob goes along the side that's 120 feet lon...</td>\n",
       "      <td>It will take Bob 3 minutes and 43.24 seconds (...</td>\n",
       "      <td>[{'tool': 'calculator', 'tool_input': '110 * 1...</td>\n",
       "      <td>False</td>\n",
       "      <td>False</td>\n",
       "      <td>None</td>\n",
       "      <td>2023-12-18 10:40:54</td>\n",
       "      <td>2023-12-18 10:41:30</td>\n",
       "      <td>GSM8K</td>\n",
       "      <td>1</td>\n",
       "      <td>Feedback: The response provided is completely ...</td>\n",
       "      <td>[calculator, calculator, calculator, calculator]</td>\n",
       "      <td>1.0</td>\n",
       "      <td>4.0</td>\n",
       "    </tr>\n",
       "    <tr>\n",
       "      <th>1</th>\n",
       "      <td>SOLAR-10.7B</td>\n",
       "      <td>upstage/solar-10.7b-instruct-v1.0-style</td>\n",
       "      <td>Earl has $90; Fred has $48; Greg has $36. Earl...</td>\n",
       "      <td>Earl will have $90 - $28 = $&lt;&lt;90-28=62&gt;&gt;62 aft...</td>\n",
       "      <td>None</td>\n",
       "      <td>None</td>\n",
       "      <td>False</td>\n",
       "      <td>False</td>\n",
       "      <td>ValueError('unknown format from LLM: Find the ...</td>\n",
       "      <td>2023-12-18 10:41:30</td>\n",
       "      <td>2023-12-18 10:41:41</td>\n",
       "      <td>GSM8K</td>\n",
       "      <td>1</td>\n",
       "      <td>Feedback: The response is completely incorrect...</td>\n",
       "      <td>None</td>\n",
       "      <td>NaN</td>\n",
       "      <td>NaN</td>\n",
       "    </tr>\n",
       "    <tr>\n",
       "      <th>2</th>\n",
       "      <td>SOLAR-10.7B</td>\n",
       "      <td>upstage/solar-10.7b-instruct-v1.0-style</td>\n",
       "      <td>A milk teas shop was able to sell a total of 5...</td>\n",
       "      <td>A milk tea shop sold 50 x 2/5 = &lt;&lt;50*2/5=20&gt;&gt;2...</td>\n",
       "      <td>15</td>\n",
       "      <td>[{'tool': 'calculator', 'tool_input': '2/5 * 5...</td>\n",
       "      <td>False</td>\n",
       "      <td>False</td>\n",
       "      <td>None</td>\n",
       "      <td>2023-12-18 10:41:41</td>\n",
       "      <td>2023-12-18 10:42:07</td>\n",
       "      <td>GSM8K</td>\n",
       "      <td>5</td>\n",
       "      <td>Feedback: The response provided is completely ...</td>\n",
       "      <td>[calculator, calculator, calculator]</td>\n",
       "      <td>1.0</td>\n",
       "      <td>3.0</td>\n",
       "    </tr>\n",
       "    <tr>\n",
       "      <th>3</th>\n",
       "      <td>SOLAR-10.7B</td>\n",
       "      <td>upstage/solar-10.7b-instruct-v1.0-style</td>\n",
       "      <td>A party venue has 4 tables that seat 6 people ...</td>\n",
       "      <td>Four 6-seater tables can accommodate 4 x 6 = &lt;...</td>\n",
       "      <td>The total capacity of all the tables at the pa...</td>\n",
       "      <td>[{'tool': 'calculator', 'tool_input': '4 * 6',...</td>\n",
       "      <td>False</td>\n",
       "      <td>False</td>\n",
       "      <td>None</td>\n",
       "      <td>2023-12-18 10:42:07</td>\n",
       "      <td>2023-12-18 10:42:36</td>\n",
       "      <td>GSM8K</td>\n",
       "      <td>5</td>\n",
       "      <td>Feedback: The response provided is completely ...</td>\n",
       "      <td>[calculator, calculator, calculator, calculator]</td>\n",
       "      <td>1.0</td>\n",
       "      <td>4.0</td>\n",
       "    </tr>\n",
       "    <tr>\n",
       "      <th>4</th>\n",
       "      <td>SOLAR-10.7B</td>\n",
       "      <td>upstage/solar-10.7b-instruct-v1.0-style</td>\n",
       "      <td>Paul is collecting license plates from differe...</td>\n",
       "      <td>The proportion of plates that he has out of to...</td>\n",
       "      <td>None</td>\n",
       "      <td>None</td>\n",
       "      <td>False</td>\n",
       "      <td>False</td>\n",
       "      <td>ValidationError(model='search_wikipediaSchemaS...</td>\n",
       "      <td>2023-12-18 10:42:36</td>\n",
       "      <td>2023-12-18 10:42:51</td>\n",
       "      <td>GSM8K</td>\n",
       "      <td>1</td>\n",
       "      <td>Feedback: Since there is no response provided ...</td>\n",
       "      <td>None</td>\n",
       "      <td>NaN</td>\n",
       "      <td>NaN</td>\n",
       "    </tr>\n",
       "  </tbody>\n",
       "</table>\n",
       "</div>"
      ],
      "text/plain": [
       "    agent_name                           agent_model_id  \\\n",
       "0  SOLAR-10.7B  upstage/solar-10.7b-instruct-v1.0-style   \n",
       "1  SOLAR-10.7B  upstage/solar-10.7b-instruct-v1.0-style   \n",
       "2  SOLAR-10.7B  upstage/solar-10.7b-instruct-v1.0-style   \n",
       "3  SOLAR-10.7B  upstage/solar-10.7b-instruct-v1.0-style   \n",
       "4  SOLAR-10.7B  upstage/solar-10.7b-instruct-v1.0-style   \n",
       "\n",
       "                                            question  \\\n",
       "0  Bob is tilling a plot of his garden. The plot ...   \n",
       "1  Earl has $90; Fred has $48; Greg has $36. Earl...   \n",
       "2  A milk teas shop was able to sell a total of 5...   \n",
       "3  A party venue has 4 tables that seat 6 people ...   \n",
       "4  Paul is collecting license plates from differe...   \n",
       "\n",
       "                                           gt_answer  \\\n",
       "0  If Bob goes along the side that's 120 feet lon...   \n",
       "1  Earl will have $90 - $28 = $<<90-28=62>>62 aft...   \n",
       "2  A milk tea shop sold 50 x 2/5 = <<50*2/5=20>>2...   \n",
       "3  Four 6-seater tables can accommodate 4 x 6 = <...   \n",
       "4  The proportion of plates that he has out of to...   \n",
       "\n",
       "                                          prediction  \\\n",
       "0  It will take Bob 3 minutes and 43.24 seconds (...   \n",
       "1                                               None   \n",
       "2                                                 15   \n",
       "3  The total capacity of all the tables at the pa...   \n",
       "4                                               None   \n",
       "\n",
       "                                  intermediate_steps  parsing_error  \\\n",
       "0  [{'tool': 'calculator', 'tool_input': '110 * 1...          False   \n",
       "1                                               None          False   \n",
       "2  [{'tool': 'calculator', 'tool_input': '2/5 * 5...          False   \n",
       "3  [{'tool': 'calculator', 'tool_input': '4 * 6',...          False   \n",
       "4                                               None          False   \n",
       "\n",
       "   iteration_limit_exceeded  \\\n",
       "0                     False   \n",
       "1                     False   \n",
       "2                     False   \n",
       "3                     False   \n",
       "4                     False   \n",
       "\n",
       "                                         agent_error          start_time  \\\n",
       "0                                               None 2023-12-18 10:40:54   \n",
       "1  ValueError('unknown format from LLM: Find the ... 2023-12-18 10:41:30   \n",
       "2                                               None 2023-12-18 10:41:41   \n",
       "3                                               None 2023-12-18 10:42:07   \n",
       "4  ValidationError(model='search_wikipediaSchemaS... 2023-12-18 10:42:36   \n",
       "\n",
       "             end_time   task  eval_score_GPT4  \\\n",
       "0 2023-12-18 10:41:30  GSM8K                1   \n",
       "1 2023-12-18 10:41:41  GSM8K                1   \n",
       "2 2023-12-18 10:42:07  GSM8K                5   \n",
       "3 2023-12-18 10:42:36  GSM8K                5   \n",
       "4 2023-12-18 10:42:51  GSM8K                1   \n",
       "\n",
       "                                  eval_feedback_GPT4  \\\n",
       "0  Feedback: The response provided is completely ...   \n",
       "1  Feedback: The response is completely incorrect...   \n",
       "2  Feedback: The response provided is completely ...   \n",
       "3  Feedback: The response provided is completely ...   \n",
       "4  Feedback: Since there is no response provided ...   \n",
       "\n",
       "                                         tools_used  \\\n",
       "0  [calculator, calculator, calculator, calculator]   \n",
       "1                                              None   \n",
       "2              [calculator, calculator, calculator]   \n",
       "3  [calculator, calculator, calculator, calculator]   \n",
       "4                                              None   \n",
       "\n",
       "   number_of_distinct_tools_used  number_of_steps  \n",
       "0                            1.0              4.0  \n",
       "1                            NaN              NaN  \n",
       "2                            1.0              3.0  \n",
       "3                            1.0              4.0  \n",
       "4                            NaN              NaN  "
      ]
     },
     "execution_count": 49,
     "metadata": {},
     "output_type": "execute_result"
    }
   ],
   "source": [
    "results = []\n",
    "for file in glob.glob(\"output/*.json\"):\n",
    "    print(file)\n",
    "    with open(file) as f:\n",
    "        results.append(pd.read_json(f))\n",
    "\n",
    "result_df = pd.concat(results)\n",
    "result_df['tools_used'] = result_df['intermediate_steps'].apply(lambda row: ([step['tool'] for step in row] if row is not None else None))\n",
    "result_df['number_of_distinct_tools_used'] = result_df['tools_used'].apply(lambda row: (len(list(set(row))) if row is not None else None))\n",
    "result_df['number_of_steps'] = result_df['tools_used'].apply(lambda row: (len(row) if row is not None else None))\n",
    "result_df.head(5)"
   ]
  },
  {
   "cell_type": "code",
   "execution_count": 50,
   "metadata": {},
   "outputs": [
    {
     "data": {
      "text/html": [
       "<div>\n",
       "<style scoped>\n",
       "    .dataframe tbody tr th:only-of-type {\n",
       "        vertical-align: middle;\n",
       "    }\n",
       "\n",
       "    .dataframe tbody tr th {\n",
       "        vertical-align: top;\n",
       "    }\n",
       "\n",
       "    .dataframe thead th {\n",
       "        text-align: right;\n",
       "    }\n",
       "</style>\n",
       "<table border=\"1\" class=\"dataframe\">\n",
       "  <thead>\n",
       "    <tr style=\"text-align: right;\">\n",
       "      <th></th>\n",
       "      <th>eval_score_GPT4</th>\n",
       "      <th>parsing_error</th>\n",
       "      <th>iteration_limit_exceeded</th>\n",
       "    </tr>\n",
       "    <tr>\n",
       "      <th>agent_name</th>\n",
       "      <th></th>\n",
       "      <th></th>\n",
       "      <th></th>\n",
       "    </tr>\n",
       "  </thead>\n",
       "  <tbody>\n",
       "    <tr>\n",
       "      <th>GPT3.5</th>\n",
       "      <td>2.142857</td>\n",
       "      <td>0</td>\n",
       "      <td>2</td>\n",
       "    </tr>\n",
       "    <tr>\n",
       "      <th>SOLAR-10.7B</th>\n",
       "      <td>2.163265</td>\n",
       "      <td>10</td>\n",
       "      <td>3</td>\n",
       "    </tr>\n",
       "  </tbody>\n",
       "</table>\n",
       "</div>"
      ],
      "text/plain": [
       "             eval_score_GPT4  parsing_error  iteration_limit_exceeded\n",
       "agent_name                                                           \n",
       "GPT3.5              2.142857              0                         2\n",
       "SOLAR-10.7B         2.163265             10                         3"
      ]
     },
     "execution_count": 50,
     "metadata": {},
     "output_type": "execute_result"
    }
   ],
   "source": [
    "def interpret_result(x):\n",
    "    try:\n",
    "        return int(x) - 1\n",
    "    except:\n",
    "        return 0\n",
    "        \n",
    "result_df[f'eval_score_{eval_model_name}'] = result_df[f'eval_score_{eval_model_name}'].apply(interpret_result)\n",
    "\n",
    "result_df.groupby(\"agent_name\").agg(\n",
    "    {f'eval_score_{eval_model_name}': \"mean\", \"parsing_error\": \"sum\", \"iteration_limit_exceeded\": \"sum\"}\n",
    ")"
   ]
  },
  {
   "cell_type": "code",
   "execution_count": 51,
   "metadata": {},
   "outputs": [
    {
     "data": {
      "text/html": [
       "<div>\n",
       "<style scoped>\n",
       "    .dataframe tbody tr th:only-of-type {\n",
       "        vertical-align: middle;\n",
       "    }\n",
       "\n",
       "    .dataframe tbody tr th {\n",
       "        vertical-align: top;\n",
       "    }\n",
       "\n",
       "    .dataframe thead tr th {\n",
       "        text-align: left;\n",
       "    }\n",
       "\n",
       "    .dataframe thead tr:last-of-type th {\n",
       "        text-align: right;\n",
       "    }\n",
       "</style>\n",
       "<table border=\"1\" class=\"dataframe\">\n",
       "  <thead>\n",
       "    <tr>\n",
       "      <th></th>\n",
       "      <th colspan=\"5\" halign=\"left\">eval_score_GPT4</th>\n",
       "    </tr>\n",
       "    <tr>\n",
       "      <th>task</th>\n",
       "      <th>GAIA</th>\n",
       "      <th>GSM8K</th>\n",
       "      <th>HotpotQA-easy</th>\n",
       "      <th>HotpotQA-hard</th>\n",
       "      <th>HotpotQA-medium</th>\n",
       "    </tr>\n",
       "    <tr>\n",
       "      <th>agent_name</th>\n",
       "      <th></th>\n",
       "      <th></th>\n",
       "      <th></th>\n",
       "      <th></th>\n",
       "      <th></th>\n",
       "    </tr>\n",
       "  </thead>\n",
       "  <tbody>\n",
       "    <tr>\n",
       "      <th>GPT3.5</th>\n",
       "      <td>0.8</td>\n",
       "      <td>2.400000</td>\n",
       "      <td>2.750</td>\n",
       "      <td>2.25</td>\n",
       "      <td>2.625</td>\n",
       "    </tr>\n",
       "    <tr>\n",
       "      <th>SOLAR-10.7B</th>\n",
       "      <td>1.2</td>\n",
       "      <td>2.266667</td>\n",
       "      <td>2.625</td>\n",
       "      <td>2.50</td>\n",
       "      <td>2.375</td>\n",
       "    </tr>\n",
       "  </tbody>\n",
       "</table>\n",
       "</div>"
      ],
      "text/plain": [
       "            eval_score_GPT4                                        \\\n",
       "task                   GAIA     GSM8K HotpotQA-easy HotpotQA-hard   \n",
       "agent_name                                                          \n",
       "GPT3.5                  0.8  2.400000         2.750          2.25   \n",
       "SOLAR-10.7B             1.2  2.266667         2.625          2.50   \n",
       "\n",
       "                             \n",
       "task        HotpotQA-medium  \n",
       "agent_name                   \n",
       "GPT3.5                2.625  \n",
       "SOLAR-10.7B           2.375  "
      ]
     },
     "metadata": {},
     "output_type": "display_data"
    },
    {
     "data": {
      "image/png": "[encoded data removed]",
      "text/plain": [
       "<Figure size 1000x500 with 1 Axes>"
      ]
     },
     "metadata": {},
     "output_type": "display_data"
    }
   ],
   "source": [
    "agg_df = (\n",
    "    result_df.groupby([\"agent_name\", \"task\"])\n",
    "    .agg({f\"eval_score_{eval_model_name}\": \"mean\"})\n",
    "    .unstack(\"task\")\n",
    ")\n",
    "display(agg_df)\n",
    "\n",
    "ax = agg_df[\n",
    "    [\n",
    "        (f\"eval_score_{eval_model_name}\", \"HotpotQA-easy\"),\n",
    "        (f\"eval_score_{eval_model_name}\", \"HotpotQA-medium\"),\n",
    "        (f\"eval_score_{eval_model_name}\", \"HotpotQA-hard\"),\n",
    "        (f\"eval_score_{eval_model_name}\", \"GSM8K\"),\n",
    "        (f\"eval_score_{eval_model_name}\", \"GAIA\")\n",
    "    ]\n",
    "].plot.bar(\n",
    "    figsize=(10, 5),\n",
    "    title=f\"Mean {eval_model_name} Evaluation Score by Task\",\n",
    "    xlabel=\"Model\",\n",
    "    ylabel=\"Mean Evaluation Score\",\n",
    ")\n",
    "\n",
    "for p in ax.patches:\n",
    "    ax.annotate(str(p.get_height()), (p.get_x() * 1.01, p.get_height() * 1.01))"
   ]
  },
  {
   "cell_type": "markdown",
   "metadata": {},
   "source": [
    "#### visualizations to make\n",
    "- avg model score by question difficulty\n",
    "- count of parsing errors and iteration limit errors"
   ]
  },
  {
   "cell_type": "markdown",
   "metadata": {},
   "source": [
    "## To-do:\n",
    "- Generalize evaluation code\n",
    "- Make evals fully async\n",
    "- Select 3-5 models to evaluate on\n",
    "- Run eval\n",
    "- Write blog post\n",
    "- Get LangChain PR merged"
   ]
  },
  {
   "cell_type": "markdown",
   "metadata": {},
   "source": [
    "## Notes\n",
    "\n",
    "- One of the main challenges with open LLMs is ensuring they adhere to the proper markdown JSON output!\n",
    "- Another is when they serve as the evaluator, they struggle to handle the default \"labeled_criteria\" prompt and end up hallucinating. Needs to be modified / simplified.\n",
    "- I also found that GPT4 actually did pretty poor at judging correctness given the default LangChain prompt!"
   ]
  }
 ],
 "metadata": {
  "kernelspec": {
   "display_name": "ml2",
   "language": "python",
   "name": "ml2"
  },
  "language_info": {
   "codemirror_mode": {
    "name": "ipython",
    "version": 3
   },
   "file_extension": ".py",
   "mimetype": "text/x-python",
   "name": "python",
   "nbconvert_exporter": "python",
   "pygments_lexer": "ipython3",
   "version": "3.10.9"
  }
 },
 "nbformat": 4,
 "nbformat_minor": 2
}
